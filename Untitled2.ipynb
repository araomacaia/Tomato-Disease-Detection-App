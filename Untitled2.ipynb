{
 "cells": [
  {
   "cell_type": "code",
   "execution_count": 2,
   "id": "ffe75e94-10ea-402c-a5ee-932aa276a053",
   "metadata": {},
   "outputs": [
    {
     "name": "stdout",
     "output_type": "stream",
     "text": [
      "((), {'keras_tensor_5': TensorSpec(shape=(None, 224, 224, 3), dtype=tf.float32, name='keras_tensor_5')})\n",
      "{'output_0': TensorSpec(shape=(None, 10), dtype=tf.float32, name='output_0')}\n"
     ]
    }
   ],
   "source": [
    "import tensorflow as tf\n",
    "\n",
    "old_model_path = \"tomato_disease_model/1\"\n",
    "loaded_model = tf.saved_model.load(old_model_path)\n",
    "\n",
    "print(loaded_model.signatures['serving_default'].structured_input_signature)\n",
    "print(loaded_model.signatures['serving_default'].structured_outputs)"
   ]
  },
  {
   "cell_type": "code",
   "execution_count": 3,
   "id": "c6f3fb50-2cba-4b5f-ad8b-d25a502c730e",
   "metadata": {},
   "outputs": [
    {
     "name": "stdout",
     "output_type": "stream",
     "text": [
      "WARNING:tensorflow:From C:\\Users\\jenia\\AppData\\Roaming\\Python\\Python313\\site-packages\\keras\\src\\backend\\tensorflow\\core.py:232: The name tf.placeholder is deprecated. Please use tf.compat.v1.placeholder instead.\n",
      "\n",
      "Model successfully rebuilt and saved as tomato_model_fixed.keras ✅\n"
     ]
    }
   ],
   "source": [
    "import tensorflow as tf\n",
    "\n",
    "# --- Load original SavedModel ---\n",
    "old_model_path = \"tomato_disease_model/1\"\n",
    "loaded_model = tf.saved_model.load(old_model_path)\n",
    "infer = loaded_model.signatures['serving_default']\n",
    "\n",
    "# --- Extract input/output names ---\n",
    "input_name = 'keras_tensor_5'\n",
    "output_name = 'output_0'\n",
    "\n",
    "# --- Define wrapper layer (this version works with Keras 3) ---\n",
    "class TFServingWrapper(tf.keras.layers.Layer):\n",
    "    def _init_(self, infer_fn=None, output_key=None):\n",
    "        super()._init_()\n",
    "        self.infer_fn = infer_fn\n",
    "        self.output_key = output_key\n",
    "\n",
    "    def call(self, inputs):\n",
    "        outputs = self.infer_fn(inputs)\n",
    "        return outputs[self.output_key]\n",
    "\n",
    "# --- Build and save the new model ---\n",
    "inputs = tf.keras.Input(shape=(224, 224, 3))\n",
    "wrapper_layer = TFServingWrapper()\n",
    "wrapper_layer.infer_fn = infer\n",
    "wrapper_layer.output_key = output_name\n",
    "\n",
    "outputs = wrapper_layer(inputs)\n",
    "model = tf.keras.Model(inputs=inputs, outputs=outputs)\n",
    "\n",
    "model.save(\"tomato_disease_model/tomato_model_fixed.keras\")\n",
    "print(\"Model successfully rebuilt and saved as tomato_model_fixed.keras ✅\")"
   ]
  },
  {
   "cell_type": "code",
   "execution_count": null,
   "id": "34559221-7be6-4ac4-97ad-9f1eb4ee2b59",
   "metadata": {},
   "outputs": [],
   "source": []
  }
 ],
 "metadata": {
  "kernelspec": {
   "display_name": "Python 3 (ipykernel)",
   "language": "python",
   "name": "python3"
  },
  "language_info": {
   "codemirror_mode": {
    "name": "ipython",
    "version": 3
   },
   "file_extension": ".py",
   "mimetype": "text/x-python",
   "name": "python",
   "nbconvert_exporter": "python",
   "pygments_lexer": "ipython3",
   "version": "3.13.5"
  }
 },
 "nbformat": 4,
 "nbformat_minor": 5
}
