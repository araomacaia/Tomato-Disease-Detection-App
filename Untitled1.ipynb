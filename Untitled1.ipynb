{
 "cells": [
  {
   "cell_type": "code",
   "execution_count": 6,
   "id": "65947157-538f-4c78-bb0e-3802f7209e24",
   "metadata": {},
   "outputs": [
    {
     "name": "stdout",
     "output_type": "stream",
     "text": [
      "Model successfully converted and saved as tomato_disease_model/tomato_model.keras\n"
     ]
    }
   ],
   "source": [
    "import tensorflow as tf\n",
    "\n",
    "# Pathing to your TensorFlow SavedModel\n",
    "old_model_path = \"tomato_disease_model/1\"\n",
    "\n",
    "# Loading the SavedModel for inference\n",
    "layer = tf.keras.layers.TFSMLayer(old_model_path, call_endpoint='serving_default')\n",
    "\n",
    "# Wraping it in a functional Keras model\n",
    "inputs = tf.keras.Input(shape=(224, 224, 3))\n",
    "outputs = layer(inputs)\n",
    "model = tf.keras.Model(inputs, outputs)\n",
    "\n",
    "# Saving the new Keras 3 compatible model\n",
    "model.save(\"tomato_disease_model/tomato_model.keras\")\n",
    "\n",
    "print(\"Model successfully converted and saved as tomato_disease_model/tomato_model.keras\")"
   ]
  },
  {
   "cell_type": "code",
   "execution_count": null,
   "id": "e2acdc89-fbc2-4587-b13c-ab5f9fc14e52",
   "metadata": {},
   "outputs": [],
   "source": []
  }
 ],
 "metadata": {
  "kernelspec": {
   "display_name": "Python 3 (ipykernel)",
   "language": "python",
   "name": "python3"
  },
  "language_info": {
   "codemirror_mode": {
    "name": "ipython",
    "version": 3
   },
   "file_extension": ".py",
   "mimetype": "text/x-python",
   "name": "python",
   "nbconvert_exporter": "python",
   "pygments_lexer": "ipython3",
   "version": "3.13.5"
  }
 },
 "nbformat": 4,
 "nbformat_minor": 5
}
